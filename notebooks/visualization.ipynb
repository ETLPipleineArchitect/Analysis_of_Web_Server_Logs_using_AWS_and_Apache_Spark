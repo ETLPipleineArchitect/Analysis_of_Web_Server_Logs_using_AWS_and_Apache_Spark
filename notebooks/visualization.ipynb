{
    "cells": [
        {
            "cell_type": "markdown",
            "metadata": {},
            "source": [
                "# Data Visualization\n",
                "Visualizing the results from the web server logs analysis."
            ]
        },
        {
            "cell_type": "code",
            "execution_count": 1,
            "metadata": {},
            "outputs": [],
            "source": [
                "import pandas as pd\n",
                "import matplotlib.pyplot as plt\n",
                "\n",
                "# Load Data from S3 (Assuming data is downloaded locally)\n",
                "top_endpoints = pd.read_csv('data/top_endpoints.csv')\n",
                "\n",
                "# Plot Top Endpoints\n",
                "plt.figure(figsize=(12, 6))\n",
                "plt.bar(top_endpoints['endpoint'], top_endpoints['request_count'])\n",
                "plt.title('Top Requested Endpoints')\n",
                "plt.xlabel('Endpoint')\n",
                "plt.ylabel('Request Count')\n",
                "plt.xticks(rotation=45)\n",
                "plt.show()\n"
            ]
        }
    ],
    "metadata": {
        "kernelspec": {
            "display_name": "Python 3",
            "language": "python",
            "name": "python3"
        },
        "language_info": {
            "name": "python",
            "version": "3.8.5",
            "mimetype": "text/x-python",
            "codemirror_mode": {
                "name": "ipython",
                "version": 3
            },
            "pygments_lexer": "ipython3",
            "nbconvert_exporter": "python",
            "file_extension": ".py"
        }
    },
    "nbformat": 4,
    "nbformat_minor": 5
}